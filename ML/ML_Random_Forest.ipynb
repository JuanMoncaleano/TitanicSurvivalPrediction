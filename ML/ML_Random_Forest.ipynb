{
 "cells": [
  {
   "cell_type": "code",
   "execution_count": 1,
   "id": "77de8fd5",
   "metadata": {},
   "outputs": [],
   "source": [
    "# Initial imports\n",
    "import pandas as pd\n",
    "import joblib as jl\n",
    "from pathlib import Path\n",
    "from sklearn.ensemble import RandomForestClassifier\n",
    "from sklearn.preprocessing import StandardScaler\n",
    "from sklearn.model_selection import train_test_split\n",
    "from sklearn.metrics import confusion_matrix, accuracy_score, classification_report\n",
    "%matplotlib inline\n",
    "\n",
    "import pydotplus\n",
    "from IPython.display import Image"
   ]
  },
  {
   "cell_type": "code",
   "execution_count": 2,
   "id": "b6c37293",
   "metadata": {},
   "outputs": [
    {
     "data": {
      "text/html": [
       "<div>\n",
       "<style scoped>\n",
       "    .dataframe tbody tr th:only-of-type {\n",
       "        vertical-align: middle;\n",
       "    }\n",
       "\n",
       "    .dataframe tbody tr th {\n",
       "        vertical-align: top;\n",
       "    }\n",
       "\n",
       "    .dataframe thead th {\n",
       "        text-align: right;\n",
       "    }\n",
       "</style>\n",
       "<table border=\"1\" class=\"dataframe\">\n",
       "  <thead>\n",
       "    <tr style=\"text-align: right;\">\n",
       "      <th></th>\n",
       "      <th>Passenger Id</th>\n",
       "      <th>Title</th>\n",
       "      <th>First Name</th>\n",
       "      <th>Last Name</th>\n",
       "      <th>Sex</th>\n",
       "      <th>Age</th>\n",
       "      <th>Sibling/Spouse Abroad</th>\n",
       "      <th>Parent/Children Abroad</th>\n",
       "      <th>Passenger Class</th>\n",
       "      <th>Fare</th>\n",
       "      <th>Embarkation Port</th>\n",
       "      <th>Survival Boat</th>\n",
       "      <th>Body Number</th>\n",
       "      <th>Survived</th>\n",
       "      <th>age_group</th>\n",
       "      <th>family_size</th>\n",
       "    </tr>\n",
       "  </thead>\n",
       "  <tbody>\n",
       "    <tr>\n",
       "      <th>0</th>\n",
       "      <td>1</td>\n",
       "      <td>Miss</td>\n",
       "      <td>Elisabeth Walton</td>\n",
       "      <td>Allen</td>\n",
       "      <td>female</td>\n",
       "      <td>29.0000</td>\n",
       "      <td>0</td>\n",
       "      <td>0</td>\n",
       "      <td>1</td>\n",
       "      <td>211.3375</td>\n",
       "      <td>S</td>\n",
       "      <td>2</td>\n",
       "      <td>S</td>\n",
       "      <td>1</td>\n",
       "      <td>Adults</td>\n",
       "      <td>0</td>\n",
       "    </tr>\n",
       "    <tr>\n",
       "      <th>1</th>\n",
       "      <td>2</td>\n",
       "      <td>Master</td>\n",
       "      <td>Hudson Trevor</td>\n",
       "      <td>Allison</td>\n",
       "      <td>male</td>\n",
       "      <td>0.9167</td>\n",
       "      <td>1</td>\n",
       "      <td>2</td>\n",
       "      <td>1</td>\n",
       "      <td>151.5500</td>\n",
       "      <td>S</td>\n",
       "      <td>11</td>\n",
       "      <td>S</td>\n",
       "      <td>1</td>\n",
       "      <td>Children</td>\n",
       "      <td>3</td>\n",
       "    </tr>\n",
       "    <tr>\n",
       "      <th>2</th>\n",
       "      <td>3</td>\n",
       "      <td>Miss</td>\n",
       "      <td>Helen Loraine</td>\n",
       "      <td>Allison</td>\n",
       "      <td>female</td>\n",
       "      <td>2.0000</td>\n",
       "      <td>1</td>\n",
       "      <td>2</td>\n",
       "      <td>1</td>\n",
       "      <td>151.5500</td>\n",
       "      <td>S</td>\n",
       "      <td>DNS</td>\n",
       "      <td>BNR</td>\n",
       "      <td>0</td>\n",
       "      <td>Children</td>\n",
       "      <td>3</td>\n",
       "    </tr>\n",
       "    <tr>\n",
       "      <th>3</th>\n",
       "      <td>4</td>\n",
       "      <td>Mr</td>\n",
       "      <td>Hudson Joshua Creighton</td>\n",
       "      <td>Allison</td>\n",
       "      <td>male</td>\n",
       "      <td>30.0000</td>\n",
       "      <td>1</td>\n",
       "      <td>2</td>\n",
       "      <td>1</td>\n",
       "      <td>151.5500</td>\n",
       "      <td>S</td>\n",
       "      <td>DNS</td>\n",
       "      <td>135.0</td>\n",
       "      <td>0</td>\n",
       "      <td>Adults</td>\n",
       "      <td>3</td>\n",
       "    </tr>\n",
       "    <tr>\n",
       "      <th>4</th>\n",
       "      <td>5</td>\n",
       "      <td>Mrs</td>\n",
       "      <td>Hudson J C (Bessie Waldo Daniels)</td>\n",
       "      <td>Allison</td>\n",
       "      <td>female</td>\n",
       "      <td>25.0000</td>\n",
       "      <td>1</td>\n",
       "      <td>2</td>\n",
       "      <td>1</td>\n",
       "      <td>151.5500</td>\n",
       "      <td>S</td>\n",
       "      <td>DNS</td>\n",
       "      <td>BNR</td>\n",
       "      <td>0</td>\n",
       "      <td>Adults</td>\n",
       "      <td>3</td>\n",
       "    </tr>\n",
       "  </tbody>\n",
       "</table>\n",
       "</div>"
      ],
      "text/plain": [
       "   Passenger Id    Title                          First Name Last Name  \\\n",
       "0             1     Miss                    Elisabeth Walton     Allen   \n",
       "1             2   Master                       Hudson Trevor   Allison   \n",
       "2             3     Miss                       Helen Loraine   Allison   \n",
       "3             4       Mr             Hudson Joshua Creighton   Allison   \n",
       "4             5      Mrs   Hudson J C (Bessie Waldo Daniels)   Allison   \n",
       "\n",
       "      Sex      Age  Sibling/Spouse Abroad  Parent/Children Abroad  \\\n",
       "0  female  29.0000                      0                       0   \n",
       "1    male   0.9167                      1                       2   \n",
       "2  female   2.0000                      1                       2   \n",
       "3    male  30.0000                      1                       2   \n",
       "4  female  25.0000                      1                       2   \n",
       "\n",
       "   Passenger Class      Fare Embarkation Port Survival Boat Body Number  \\\n",
       "0                1  211.3375                S             2           S   \n",
       "1                1  151.5500                S            11           S   \n",
       "2                1  151.5500                S           DNS         BNR   \n",
       "3                1  151.5500                S           DNS       135.0   \n",
       "4                1  151.5500                S           DNS         BNR   \n",
       "\n",
       "   Survived age_group  family_size  \n",
       "0         1    Adults            0  \n",
       "1         1  Children            3  \n",
       "2         0  Children            3  \n",
       "3         0    Adults            3  \n",
       "4         0    Adults            3  "
      ]
     },
     "execution_count": 2,
     "metadata": {},
     "output_type": "execute_result"
    }
   ],
   "source": [
    "# Read the CSV file into a Pandas DataFrame\n",
    "passengers_df = pd.read_csv(\n",
    "    Path('../CSV_OUTPUT/Base_Cleaned_DS_CSV.csv')   \n",
    ")\n",
    "\n",
    "# Review the DataFrame\n",
    "passengers_df.head()"
   ]
  },
  {
   "cell_type": "markdown",
   "id": "e61100ac",
   "metadata": {},
   "source": [
    "## Preprocessing"
   ]
  },
  {
   "cell_type": "code",
   "execution_count": 3,
   "id": "a9e2f454",
   "metadata": {},
   "outputs": [
    {
     "data": {
      "text/html": [
       "<div>\n",
       "<style scoped>\n",
       "    .dataframe tbody tr th:only-of-type {\n",
       "        vertical-align: middle;\n",
       "    }\n",
       "\n",
       "    .dataframe tbody tr th {\n",
       "        vertical-align: top;\n",
       "    }\n",
       "\n",
       "    .dataframe thead th {\n",
       "        text-align: right;\n",
       "    }\n",
       "</style>\n",
       "<table border=\"1\" class=\"dataframe\">\n",
       "  <thead>\n",
       "    <tr style=\"text-align: right;\">\n",
       "      <th></th>\n",
       "      <th>Title</th>\n",
       "      <th>Sex</th>\n",
       "      <th>Age</th>\n",
       "      <th>Sibling/Spouse Abroad</th>\n",
       "      <th>Parent/Children Abroad</th>\n",
       "      <th>Passenger Class</th>\n",
       "      <th>Fare</th>\n",
       "      <th>Embarkation Port</th>\n",
       "      <th>Survived</th>\n",
       "      <th>age_group</th>\n",
       "      <th>family_size</th>\n",
       "    </tr>\n",
       "  </thead>\n",
       "  <tbody>\n",
       "    <tr>\n",
       "      <th>0</th>\n",
       "      <td>Miss</td>\n",
       "      <td>female</td>\n",
       "      <td>29.0000</td>\n",
       "      <td>0</td>\n",
       "      <td>0</td>\n",
       "      <td>1</td>\n",
       "      <td>211.3375</td>\n",
       "      <td>S</td>\n",
       "      <td>1</td>\n",
       "      <td>Adults</td>\n",
       "      <td>0</td>\n",
       "    </tr>\n",
       "    <tr>\n",
       "      <th>1</th>\n",
       "      <td>Master</td>\n",
       "      <td>male</td>\n",
       "      <td>0.9167</td>\n",
       "      <td>1</td>\n",
       "      <td>2</td>\n",
       "      <td>1</td>\n",
       "      <td>151.5500</td>\n",
       "      <td>S</td>\n",
       "      <td>1</td>\n",
       "      <td>Children</td>\n",
       "      <td>3</td>\n",
       "    </tr>\n",
       "    <tr>\n",
       "      <th>2</th>\n",
       "      <td>Miss</td>\n",
       "      <td>female</td>\n",
       "      <td>2.0000</td>\n",
       "      <td>1</td>\n",
       "      <td>2</td>\n",
       "      <td>1</td>\n",
       "      <td>151.5500</td>\n",
       "      <td>S</td>\n",
       "      <td>0</td>\n",
       "      <td>Children</td>\n",
       "      <td>3</td>\n",
       "    </tr>\n",
       "    <tr>\n",
       "      <th>3</th>\n",
       "      <td>Mr</td>\n",
       "      <td>male</td>\n",
       "      <td>30.0000</td>\n",
       "      <td>1</td>\n",
       "      <td>2</td>\n",
       "      <td>1</td>\n",
       "      <td>151.5500</td>\n",
       "      <td>S</td>\n",
       "      <td>0</td>\n",
       "      <td>Adults</td>\n",
       "      <td>3</td>\n",
       "    </tr>\n",
       "    <tr>\n",
       "      <th>4</th>\n",
       "      <td>Mrs</td>\n",
       "      <td>female</td>\n",
       "      <td>25.0000</td>\n",
       "      <td>1</td>\n",
       "      <td>2</td>\n",
       "      <td>1</td>\n",
       "      <td>151.5500</td>\n",
       "      <td>S</td>\n",
       "      <td>0</td>\n",
       "      <td>Adults</td>\n",
       "      <td>3</td>\n",
       "    </tr>\n",
       "  </tbody>\n",
       "</table>\n",
       "</div>"
      ],
      "text/plain": [
       "     Title     Sex      Age  Sibling/Spouse Abroad  Parent/Children Abroad  \\\n",
       "0     Miss  female  29.0000                      0                       0   \n",
       "1   Master    male   0.9167                      1                       2   \n",
       "2     Miss  female   2.0000                      1                       2   \n",
       "3       Mr    male  30.0000                      1                       2   \n",
       "4      Mrs  female  25.0000                      1                       2   \n",
       "\n",
       "   Passenger Class      Fare Embarkation Port  Survived age_group  family_size  \n",
       "0                1  211.3375                S         1    Adults            0  \n",
       "1                1  151.5500                S         1  Children            3  \n",
       "2                1  151.5500                S         0  Children            3  \n",
       "3                1  151.5500                S         0    Adults            3  \n",
       "4                1  151.5500                S         0    Adults            3  "
      ]
     },
     "execution_count": 3,
     "metadata": {},
     "output_type": "execute_result"
    }
   ],
   "source": [
    "# Drop the non-beneficial columns \"Passenger Id\", \"First Name\", \"Last Name\", \"Body Number\" and \"Survival Boat\"\n",
    "passengers_df_cleaned = passengers_df.drop(columns = [\"Passenger Id\", \"First Name\", \"Last Name\", \"Body Number\",\n",
    "                                                      \"Survival Boat\"])\n",
    "passengers_df_cleaned.head()"
   ]
  },
  {
   "cell_type": "code",
   "execution_count": 4,
   "id": "07020b80",
   "metadata": {},
   "outputs": [
    {
     "data": {
      "text/plain": [
       "Title                      object\n",
       "Sex                        object\n",
       "Age                       float64\n",
       "Sibling/Spouse Abroad       int64\n",
       "Parent/Children Abroad      int64\n",
       "Passenger Class             int64\n",
       "Fare                      float64\n",
       "Embarkation Port           object\n",
       "Survived                    int64\n",
       "age_group                  object\n",
       "family_size                 int64\n",
       "dtype: object"
      ]
     },
     "execution_count": 4,
     "metadata": {},
     "output_type": "execute_result"
    }
   ],
   "source": [
    "# Check data types\n",
    "passengers_df_cleaned.dtypes"
   ]
  },
  {
   "cell_type": "code",
   "execution_count": 5,
   "id": "c9a37c16",
   "metadata": {},
   "outputs": [
    {
     "data": {
      "text/plain": [
       "Title                      object\n",
       "Sex                        object\n",
       "Age                         int32\n",
       "Sibling/Spouse Abroad       int64\n",
       "Parent/Children Abroad      int64\n",
       "Passenger Class             int64\n",
       "Fare                      float64\n",
       "Embarkation Port           object\n",
       "Survived                    int64\n",
       "age_group                  object\n",
       "family_size                 int64\n",
       "dtype: object"
      ]
     },
     "execution_count": 5,
     "metadata": {},
     "output_type": "execute_result"
    }
   ],
   "source": [
    "# Cast the columns \"Age\" to integer\n",
    "passengers_df_cleaned[\"Age\"] = passengers_df_cleaned[\"Age\"].round().astype(int)\n",
    "passengers_df_cleaned.dtypes"
   ]
  },
  {
   "cell_type": "code",
   "execution_count": 6,
   "id": "026375c4",
   "metadata": {},
   "outputs": [
    {
     "data": {
      "text/plain": [
       "Title                      18\n",
       "Sex                         2\n",
       "Age                        73\n",
       "Sibling/Spouse Abroad       7\n",
       "Parent/Children Abroad      8\n",
       "Passenger Class             3\n",
       "Fare                      282\n",
       "Embarkation Port            3\n",
       "Survived                    2\n",
       "age_group                   4\n",
       "family_size                 9\n",
       "dtype: int64"
      ]
     },
     "execution_count": 6,
     "metadata": {},
     "output_type": "execute_result"
    }
   ],
   "source": [
    "# Determine the number of unique values in each column\n",
    "passengers_df_cleaned.nunique()"
   ]
  },
  {
   "cell_type": "code",
   "execution_count": 7,
   "id": "70c2a516",
   "metadata": {},
   "outputs": [
    {
     "data": {
      "text/plain": [
       " Mr              757\n",
       " Miss            260\n",
       " Mrs             197\n",
       " Master           61\n",
       " Rev               8\n",
       " Dr                8\n",
       " Col               4\n",
       " Major             2\n",
       " Mlle              2\n",
       " Jonkheer          1\n",
       " Don               1\n",
       " the Countess      1\n",
       " Lady              1\n",
       " Dona              1\n",
       " Sir               1\n",
       " Capt              1\n",
       " Mme               1\n",
       " Ms                1\n",
       "Name: Title, dtype: int64"
      ]
     },
     "execution_count": 7,
     "metadata": {},
     "output_type": "execute_result"
    }
   ],
   "source": [
    "# Look at Titles value counts for binning\n",
    "titles_vcount = passengers_df_cleaned[\"Title\"].value_counts()\n",
    "titles_vcount"
   ]
  },
  {
   "cell_type": "code",
   "execution_count": 8,
   "id": "9d670a28",
   "metadata": {},
   "outputs": [
    {
     "data": {
      "text/plain": [
       " Mr        757\n",
       " Miss      260\n",
       " Mrs       197\n",
       " Master     61\n",
       "Other       33\n",
       "Name: Title, dtype: int64"
      ]
     },
     "execution_count": 8,
     "metadata": {},
     "output_type": "execute_result"
    }
   ],
   "source": [
    "# Choose a cutoff value and create a list of application types to be replaced\n",
    "# use the variable name `application_types_to_replace`\n",
    "titles_to_replace = list(titles_vcount[titles_vcount < 10].index)\n",
    "\n",
    "# Replace in dataframe\n",
    "for title in titles_to_replace:\n",
    "    passengers_df_cleaned['Title'] = passengers_df_cleaned['Title'].replace(title,\"Other\")\n",
    "\n",
    "# Check to make sure binning was successful\n",
    "passengers_df_cleaned['Title'].value_counts()"
   ]
  },
  {
   "cell_type": "code",
   "execution_count": 9,
   "id": "ef0a22a3",
   "metadata": {},
   "outputs": [
    {
     "data": {
      "text/plain": [
       "Adults       1014\n",
       "Teenagers     152\n",
       "Children       99\n",
       "Seniors        43\n",
       "Name: age_group, dtype: int64"
      ]
     },
     "execution_count": 9,
     "metadata": {},
     "output_type": "execute_result"
    }
   ],
   "source": [
    "# Look at Titles age_group counts\n",
    "passengers_df_cleaned[\"age_group\"].value_counts()"
   ]
  },
  {
   "cell_type": "code",
   "execution_count": 10,
   "id": "e95934ca",
   "metadata": {},
   "outputs": [
    {
     "data": {
      "text/html": [
       "<div>\n",
       "<style scoped>\n",
       "    .dataframe tbody tr th:only-of-type {\n",
       "        vertical-align: middle;\n",
       "    }\n",
       "\n",
       "    .dataframe tbody tr th {\n",
       "        vertical-align: top;\n",
       "    }\n",
       "\n",
       "    .dataframe thead th {\n",
       "        text-align: right;\n",
       "    }\n",
       "</style>\n",
       "<table border=\"1\" class=\"dataframe\">\n",
       "  <thead>\n",
       "    <tr style=\"text-align: right;\">\n",
       "      <th></th>\n",
       "      <th>Title</th>\n",
       "      <th>Sex</th>\n",
       "      <th>Age</th>\n",
       "      <th>Sibling/Spouse Abroad</th>\n",
       "      <th>Parent/Children Abroad</th>\n",
       "      <th>Passenger Class</th>\n",
       "      <th>Fare</th>\n",
       "      <th>Embarkation Port</th>\n",
       "      <th>Survived</th>\n",
       "      <th>age_group</th>\n",
       "      <th>family_size</th>\n",
       "    </tr>\n",
       "  </thead>\n",
       "  <tbody>\n",
       "    <tr>\n",
       "      <th>0</th>\n",
       "      <td>Miss</td>\n",
       "      <td>female</td>\n",
       "      <td>29</td>\n",
       "      <td>0</td>\n",
       "      <td>0</td>\n",
       "      <td>1</td>\n",
       "      <td>211.3375</td>\n",
       "      <td>S</td>\n",
       "      <td>1</td>\n",
       "      <td>Adults</td>\n",
       "      <td>0</td>\n",
       "    </tr>\n",
       "    <tr>\n",
       "      <th>1</th>\n",
       "      <td>Master</td>\n",
       "      <td>male</td>\n",
       "      <td>1</td>\n",
       "      <td>1</td>\n",
       "      <td>2</td>\n",
       "      <td>1</td>\n",
       "      <td>151.5500</td>\n",
       "      <td>S</td>\n",
       "      <td>1</td>\n",
       "      <td>Children</td>\n",
       "      <td>3</td>\n",
       "    </tr>\n",
       "    <tr>\n",
       "      <th>2</th>\n",
       "      <td>Miss</td>\n",
       "      <td>female</td>\n",
       "      <td>2</td>\n",
       "      <td>1</td>\n",
       "      <td>2</td>\n",
       "      <td>1</td>\n",
       "      <td>151.5500</td>\n",
       "      <td>S</td>\n",
       "      <td>0</td>\n",
       "      <td>Children</td>\n",
       "      <td>3</td>\n",
       "    </tr>\n",
       "    <tr>\n",
       "      <th>3</th>\n",
       "      <td>Mr</td>\n",
       "      <td>male</td>\n",
       "      <td>30</td>\n",
       "      <td>1</td>\n",
       "      <td>2</td>\n",
       "      <td>1</td>\n",
       "      <td>151.5500</td>\n",
       "      <td>S</td>\n",
       "      <td>0</td>\n",
       "      <td>Adults</td>\n",
       "      <td>3</td>\n",
       "    </tr>\n",
       "    <tr>\n",
       "      <th>4</th>\n",
       "      <td>Mrs</td>\n",
       "      <td>female</td>\n",
       "      <td>25</td>\n",
       "      <td>1</td>\n",
       "      <td>2</td>\n",
       "      <td>1</td>\n",
       "      <td>151.5500</td>\n",
       "      <td>S</td>\n",
       "      <td>0</td>\n",
       "      <td>Adults</td>\n",
       "      <td>3</td>\n",
       "    </tr>\n",
       "  </tbody>\n",
       "</table>\n",
       "</div>"
      ],
      "text/plain": [
       "     Title     Sex  Age  Sibling/Spouse Abroad  Parent/Children Abroad  \\\n",
       "0     Miss  female   29                      0                       0   \n",
       "1   Master    male    1                      1                       2   \n",
       "2     Miss  female    2                      1                       2   \n",
       "3       Mr    male   30                      1                       2   \n",
       "4      Mrs  female   25                      1                       2   \n",
       "\n",
       "   Passenger Class      Fare Embarkation Port  Survived age_group  family_size  \n",
       "0                1  211.3375                S         1    Adults            0  \n",
       "1                1  151.5500                S         1  Children            3  \n",
       "2                1  151.5500                S         0  Children            3  \n",
       "3                1  151.5500                S         0    Adults            3  \n",
       "4                1  151.5500                S         0    Adults            3  "
      ]
     },
     "execution_count": 10,
     "metadata": {},
     "output_type": "execute_result"
    }
   ],
   "source": [
    "#Display the cleaned dataframe\n",
    "passengers_df_cleaned.head()"
   ]
  },
  {
   "cell_type": "code",
   "execution_count": 11,
   "id": "1da52114",
   "metadata": {},
   "outputs": [
    {
     "data": {
      "text/html": [
       "<div>\n",
       "<style scoped>\n",
       "    .dataframe tbody tr th:only-of-type {\n",
       "        vertical-align: middle;\n",
       "    }\n",
       "\n",
       "    .dataframe tbody tr th {\n",
       "        vertical-align: top;\n",
       "    }\n",
       "\n",
       "    .dataframe thead th {\n",
       "        text-align: right;\n",
       "    }\n",
       "</style>\n",
       "<table border=\"1\" class=\"dataframe\">\n",
       "  <thead>\n",
       "    <tr style=\"text-align: right;\">\n",
       "      <th></th>\n",
       "      <th>Age</th>\n",
       "      <th>Sibling/Spouse Abroad</th>\n",
       "      <th>Parent/Children Abroad</th>\n",
       "      <th>Passenger Class</th>\n",
       "      <th>Fare</th>\n",
       "      <th>Survived</th>\n",
       "      <th>family_size</th>\n",
       "      <th>Title_ Master</th>\n",
       "      <th>Title_ Miss</th>\n",
       "      <th>Title_ Mr</th>\n",
       "      <th>...</th>\n",
       "      <th>Title_Other</th>\n",
       "      <th>Sex_female</th>\n",
       "      <th>Sex_male</th>\n",
       "      <th>Embarkation Port_C</th>\n",
       "      <th>Embarkation Port_Q</th>\n",
       "      <th>Embarkation Port_S</th>\n",
       "      <th>age_group_Adults</th>\n",
       "      <th>age_group_Children</th>\n",
       "      <th>age_group_Seniors</th>\n",
       "      <th>age_group_Teenagers</th>\n",
       "    </tr>\n",
       "  </thead>\n",
       "  <tbody>\n",
       "    <tr>\n",
       "      <th>0</th>\n",
       "      <td>29</td>\n",
       "      <td>0</td>\n",
       "      <td>0</td>\n",
       "      <td>1</td>\n",
       "      <td>211.3375</td>\n",
       "      <td>1</td>\n",
       "      <td>0</td>\n",
       "      <td>0</td>\n",
       "      <td>1</td>\n",
       "      <td>0</td>\n",
       "      <td>...</td>\n",
       "      <td>0</td>\n",
       "      <td>1</td>\n",
       "      <td>0</td>\n",
       "      <td>0</td>\n",
       "      <td>0</td>\n",
       "      <td>1</td>\n",
       "      <td>1</td>\n",
       "      <td>0</td>\n",
       "      <td>0</td>\n",
       "      <td>0</td>\n",
       "    </tr>\n",
       "    <tr>\n",
       "      <th>1</th>\n",
       "      <td>1</td>\n",
       "      <td>1</td>\n",
       "      <td>2</td>\n",
       "      <td>1</td>\n",
       "      <td>151.5500</td>\n",
       "      <td>1</td>\n",
       "      <td>3</td>\n",
       "      <td>1</td>\n",
       "      <td>0</td>\n",
       "      <td>0</td>\n",
       "      <td>...</td>\n",
       "      <td>0</td>\n",
       "      <td>0</td>\n",
       "      <td>1</td>\n",
       "      <td>0</td>\n",
       "      <td>0</td>\n",
       "      <td>1</td>\n",
       "      <td>0</td>\n",
       "      <td>1</td>\n",
       "      <td>0</td>\n",
       "      <td>0</td>\n",
       "    </tr>\n",
       "    <tr>\n",
       "      <th>2</th>\n",
       "      <td>2</td>\n",
       "      <td>1</td>\n",
       "      <td>2</td>\n",
       "      <td>1</td>\n",
       "      <td>151.5500</td>\n",
       "      <td>0</td>\n",
       "      <td>3</td>\n",
       "      <td>0</td>\n",
       "      <td>1</td>\n",
       "      <td>0</td>\n",
       "      <td>...</td>\n",
       "      <td>0</td>\n",
       "      <td>1</td>\n",
       "      <td>0</td>\n",
       "      <td>0</td>\n",
       "      <td>0</td>\n",
       "      <td>1</td>\n",
       "      <td>0</td>\n",
       "      <td>1</td>\n",
       "      <td>0</td>\n",
       "      <td>0</td>\n",
       "    </tr>\n",
       "    <tr>\n",
       "      <th>3</th>\n",
       "      <td>30</td>\n",
       "      <td>1</td>\n",
       "      <td>2</td>\n",
       "      <td>1</td>\n",
       "      <td>151.5500</td>\n",
       "      <td>0</td>\n",
       "      <td>3</td>\n",
       "      <td>0</td>\n",
       "      <td>0</td>\n",
       "      <td>1</td>\n",
       "      <td>...</td>\n",
       "      <td>0</td>\n",
       "      <td>0</td>\n",
       "      <td>1</td>\n",
       "      <td>0</td>\n",
       "      <td>0</td>\n",
       "      <td>1</td>\n",
       "      <td>1</td>\n",
       "      <td>0</td>\n",
       "      <td>0</td>\n",
       "      <td>0</td>\n",
       "    </tr>\n",
       "    <tr>\n",
       "      <th>4</th>\n",
       "      <td>25</td>\n",
       "      <td>1</td>\n",
       "      <td>2</td>\n",
       "      <td>1</td>\n",
       "      <td>151.5500</td>\n",
       "      <td>0</td>\n",
       "      <td>3</td>\n",
       "      <td>0</td>\n",
       "      <td>0</td>\n",
       "      <td>0</td>\n",
       "      <td>...</td>\n",
       "      <td>0</td>\n",
       "      <td>1</td>\n",
       "      <td>0</td>\n",
       "      <td>0</td>\n",
       "      <td>0</td>\n",
       "      <td>1</td>\n",
       "      <td>1</td>\n",
       "      <td>0</td>\n",
       "      <td>0</td>\n",
       "      <td>0</td>\n",
       "    </tr>\n",
       "  </tbody>\n",
       "</table>\n",
       "<p>5 rows × 21 columns</p>\n",
       "</div>"
      ],
      "text/plain": [
       "   Age  Sibling/Spouse Abroad  Parent/Children Abroad  Passenger Class  \\\n",
       "0   29                      0                       0                1   \n",
       "1    1                      1                       2                1   \n",
       "2    2                      1                       2                1   \n",
       "3   30                      1                       2                1   \n",
       "4   25                      1                       2                1   \n",
       "\n",
       "       Fare  Survived  family_size  Title_ Master  Title_ Miss  Title_ Mr  \\\n",
       "0  211.3375         1            0              0            1          0   \n",
       "1  151.5500         1            3              1            0          0   \n",
       "2  151.5500         0            3              0            1          0   \n",
       "3  151.5500         0            3              0            0          1   \n",
       "4  151.5500         0            3              0            0          0   \n",
       "\n",
       "   ...  Title_Other  Sex_female  Sex_male  Embarkation Port_C  \\\n",
       "0  ...            0           1         0                   0   \n",
       "1  ...            0           0         1                   0   \n",
       "2  ...            0           1         0                   0   \n",
       "3  ...            0           0         1                   0   \n",
       "4  ...            0           1         0                   0   \n",
       "\n",
       "   Embarkation Port_Q  Embarkation Port_S  age_group_Adults  \\\n",
       "0                   0                   1                 1   \n",
       "1                   0                   1                 0   \n",
       "2                   0                   1                 0   \n",
       "3                   0                   1                 1   \n",
       "4                   0                   1                 1   \n",
       "\n",
       "   age_group_Children  age_group_Seniors  age_group_Teenagers  \n",
       "0                   0                  0                    0  \n",
       "1                   1                  0                    0  \n",
       "2                   1                  0                    0  \n",
       "3                   0                  0                    0  \n",
       "4                   0                  0                    0  \n",
       "\n",
       "[5 rows x 21 columns]"
      ]
     },
     "execution_count": 11,
     "metadata": {},
     "output_type": "execute_result"
    }
   ],
   "source": [
    "# Convert categorical data to numeric with `pd.get_dummies`\n",
    "passengers_df_preprocessed = pd.get_dummies(passengers_df_cleaned)\n",
    "passengers_df_preprocessed.head()"
   ]
  },
  {
   "cell_type": "markdown",
   "id": "ac95da2a",
   "metadata": {},
   "source": [
    "## Create a Random Forest Model with the Original Data"
   ]
  },
  {
   "cell_type": "code",
   "execution_count": 12,
   "id": "6cc25972",
   "metadata": {},
   "outputs": [],
   "source": [
    "# Split our preprocessed data into our features and target arrays\n",
    "y = passengers_df_preprocessed.Survived\n",
    "X = passengers_df_preprocessed.drop(columns=\"Survived\")\n",
    "\n",
    "# Split the preprocessed data into a training and testing dataset\n",
    "X_train, X_test, y_train, y_test = train_test_split(X, y, random_state=78, stratify=y)"
   ]
  },
  {
   "cell_type": "code",
   "execution_count": 13,
   "id": "bd7f1f54",
   "metadata": {},
   "outputs": [],
   "source": [
    "# Create a StandardScaler instances\n",
    "scaler = StandardScaler()\n",
    "\n",
    "# Fit the StandardScaler\n",
    "X_scaler = scaler.fit(X_train)\n",
    "\n",
    "# Scale the data\n",
    "X_train_scaled = X_scaler.transform(X_train)\n",
    "X_test_scaled = X_scaler.transform(X_test)"
   ]
  },
  {
   "cell_type": "code",
   "execution_count": 14,
   "id": "ea068e4c",
   "metadata": {},
   "outputs": [],
   "source": [
    "# Create a random forest classifier\n",
    "rf_model = RandomForestClassifier(n_estimators=500, random_state=78)"
   ]
  },
  {
   "cell_type": "code",
   "execution_count": 15,
   "id": "4826be9e",
   "metadata": {},
   "outputs": [],
   "source": [
    "# Fitting the model\n",
    "rf_model = rf_model.fit(X_train_scaled, y_train)"
   ]
  },
  {
   "cell_type": "code",
   "execution_count": 16,
   "id": "ad869ec6",
   "metadata": {},
   "outputs": [],
   "source": [
    "# Making predictions using the testing data\n",
    "predictions = rf_model.predict(X_test_scaled)"
   ]
  },
  {
   "cell_type": "code",
   "execution_count": 17,
   "id": "ed1997eb",
   "metadata": {},
   "outputs": [],
   "source": [
    "# Calculating the confusion matrix\n",
    "cm = confusion_matrix(y_test, predictions)\n",
    "cm_df = pd.DataFrame(\n",
    "    cm, index=[\"Actual 0\", \"Actual 1\"], columns=[\"Predicted 0\", \"Predicted 1\"]\n",
    ")\n",
    "\n",
    "# Calculating the accuracy score\n",
    "acc_score = accuracy_score(y_test, predictions)"
   ]
  },
  {
   "cell_type": "code",
   "execution_count": 18,
   "id": "2789124d",
   "metadata": {},
   "outputs": [
    {
     "name": "stdout",
     "output_type": "stream",
     "text": [
      "Confusion Matrix\n"
     ]
    },
    {
     "data": {
      "text/html": [
       "<div>\n",
       "<style scoped>\n",
       "    .dataframe tbody tr th:only-of-type {\n",
       "        vertical-align: middle;\n",
       "    }\n",
       "\n",
       "    .dataframe tbody tr th {\n",
       "        vertical-align: top;\n",
       "    }\n",
       "\n",
       "    .dataframe thead th {\n",
       "        text-align: right;\n",
       "    }\n",
       "</style>\n",
       "<table border=\"1\" class=\"dataframe\">\n",
       "  <thead>\n",
       "    <tr style=\"text-align: right;\">\n",
       "      <th></th>\n",
       "      <th>Predicted 0</th>\n",
       "      <th>Predicted 1</th>\n",
       "    </tr>\n",
       "  </thead>\n",
       "  <tbody>\n",
       "    <tr>\n",
       "      <th>Actual 0</th>\n",
       "      <td>167</td>\n",
       "      <td>35</td>\n",
       "    </tr>\n",
       "    <tr>\n",
       "      <th>Actual 1</th>\n",
       "      <td>42</td>\n",
       "      <td>83</td>\n",
       "    </tr>\n",
       "  </tbody>\n",
       "</table>\n",
       "</div>"
      ],
      "text/plain": [
       "          Predicted 0  Predicted 1\n",
       "Actual 0          167           35\n",
       "Actual 1           42           83"
      ]
     },
     "metadata": {},
     "output_type": "display_data"
    },
    {
     "name": "stdout",
     "output_type": "stream",
     "text": [
      "Accuracy Score : 0.764525993883792\n",
      "Classification Report\n",
      "              precision    recall  f1-score   support\n",
      "\n",
      "           0       0.80      0.83      0.81       202\n",
      "           1       0.70      0.66      0.68       125\n",
      "\n",
      "    accuracy                           0.76       327\n",
      "   macro avg       0.75      0.75      0.75       327\n",
      "weighted avg       0.76      0.76      0.76       327\n",
      "\n"
     ]
    }
   ],
   "source": [
    "# Displaying results\n",
    "print(\"Confusion Matrix\")\n",
    "display(cm_df)\n",
    "print(f\"Accuracy Score : {acc_score}\")\n",
    "print(\"Classification Report\")\n",
    "print(classification_report(y_test, predictions))"
   ]
  },
  {
   "cell_type": "code",
   "execution_count": 19,
   "id": "ba2f87fd",
   "metadata": {},
   "outputs": [
    {
     "data": {
      "text/plain": [
       "['OUTPUT/random_forest_model.pkl']"
      ]
     },
     "execution_count": 19,
     "metadata": {},
     "output_type": "execute_result"
    }
   ],
   "source": [
    "# Save the model to a file\n",
    "jl.dump(rf_model, 'OUTPUT/random_forest_model.pkl')"
   ]
  },
  {
   "cell_type": "code",
   "execution_count": 20,
   "id": "f2d6a868",
   "metadata": {},
   "outputs": [
    {
     "data": {
      "text/plain": [
       "[(0.2572703656246304, 'Fare'),\n",
       " (0.20469939722195, 'Age'),\n",
       " (0.09364949062865596, 'Title_ Mr'),\n",
       " (0.07474071747915496, 'Sex_female'),\n",
       " (0.07260434688542305, 'Passenger Class'),\n",
       " (0.0703934625556186, 'Sex_male'),\n",
       " (0.050783545994583304, 'family_size'),\n",
       " (0.032889552475474385, 'Sibling/Spouse Abroad'),\n",
       " (0.026715865280439916, 'Title_ Mrs'),\n",
       " (0.022377639630950727, 'Parent/Children Abroad'),\n",
       " (0.019685339591139574, 'Title_ Miss'),\n",
       " (0.017985358890919317, 'Embarkation Port_C'),\n",
       " (0.014574802713677521, 'Embarkation Port_S'),\n",
       " (0.009137094903047932, 'age_group_Adults'),\n",
       " (0.007612267288439134, 'age_group_Children'),\n",
       " (0.006636952973986907, 'Embarkation Port_Q'),\n",
       " (0.0065748546590056545, 'age_group_Teenagers'),\n",
       " (0.004999150242227831, 'Title_ Master'),\n",
       " (0.004045066351738492, 'Title_Other'),\n",
       " (0.0026247286089363334, 'age_group_Seniors')]"
      ]
     },
     "execution_count": 20,
     "metadata": {},
     "output_type": "execute_result"
    }
   ],
   "source": [
    "# Random Forests in sklearn will automatically calculate feature importance\n",
    "importances = rf_model.feature_importances_\n",
    "# We can sort the features by their importance\n",
    "sorted(zip(rf_model.feature_importances_, X.columns), reverse=True)"
   ]
  },
  {
   "cell_type": "code",
   "execution_count": 21,
   "id": "a6a32153",
   "metadata": {},
   "outputs": [
    {
     "data": {
      "text/plain": [
       "<Axes: title={'center': 'Features Importances'}, ylabel='1'>"
      ]
     },
     "execution_count": 21,
     "metadata": {},
     "output_type": "execute_result"
    },
    {
     "data": {
      "image/png": "[encoded data removed]",
      "text/plain": [
       "<Figure size 640x480 with 1 Axes>"
      ]
     },
     "metadata": {},
     "output_type": "display_data"
    }
   ],
   "source": [
    "# Visualize the features by importance\n",
    "importances_df = pd.DataFrame(sorted(zip(rf_model.feature_importances_, X.columns), reverse=True))\n",
    "importances_df.set_index(importances_df[1], inplace=True)\n",
    "importances_df.drop(columns=1, inplace=True)\n",
    "importances_df.rename(columns={0: 'Feature Importances'}, inplace=True)\n",
    "importances_sorted = importances_df.sort_values(by='Feature Importances')\n",
    "importances_sorted.plot(kind='barh', color='lightblue', title= 'Features Importances', legend=False)"
   ]
  },
  {
   "cell_type": "markdown",
   "id": "82b8d06a",
   "metadata": {},
   "source": [
    "## Create a Logistic Regression Model with Resampled Training Data\n",
    "### Optimization attempt"
   ]
  },
  {
   "cell_type": "code",
   "execution_count": 22,
   "id": "a55d00b4",
   "metadata": {},
   "outputs": [
    {
     "data": {
      "text/plain": [
       "0    808\n",
       "1    500\n",
       "Name: Survived, dtype: int64"
      ]
     },
     "execution_count": 22,
     "metadata": {},
     "output_type": "execute_result"
    }
   ],
   "source": [
    "# Count the distinct values of the labels data\n",
    "y.value_counts()"
   ]
  },
  {
   "cell_type": "code",
   "execution_count": 23,
   "id": "c772a628",
   "metadata": {},
   "outputs": [],
   "source": [
    "# Import the RandomOverSampler module form imbalanced-learn\n",
    "from imblearn.over_sampling import RandomOverSampler\n",
    "\n",
    "# Instantiate the random oversampler model\n",
    "# # Assign a random_state parameter of 1 to the model\n",
    "ros_model = RandomOverSampler(random_state = 1)\n",
    "\n",
    "# Fit the original training data to the random_oversampler model\n",
    "X_resampled, y_resampled = ros_model.fit_resample(X_train, y_train)"
   ]
  },
  {
   "cell_type": "code",
   "execution_count": 24,
   "id": "2fb6e4b4",
   "metadata": {},
   "outputs": [
    {
     "data": {
      "text/plain": [
       "0    606\n",
       "1    606\n",
       "Name: Survived, dtype: int64"
      ]
     },
     "execution_count": 24,
     "metadata": {},
     "output_type": "execute_result"
    }
   ],
   "source": [
    "# Count the distinct values of the resampled labels data\n",
    "y_resampled.value_counts()"
   ]
  },
  {
   "cell_type": "code",
   "execution_count": 25,
   "id": "4fcf745b",
   "metadata": {},
   "outputs": [],
   "source": [
    "# Create a random forest classifier\n",
    "# Assign a random_state parameter of 1 to the model\n",
    "rf_resampled_model = RandomForestClassifier(n_estimators=500, random_state=78)\n",
    "\n",
    "# Fit the model using the resampled training data\n",
    "rf_resampled_model.fit(X_resampled, y_resampled)\n",
    "\n",
    "# Make a prediction using the testing data\n",
    "rf_resampled_predictions = rf_resampled_model.predict(X_test)"
   ]
  },
  {
   "cell_type": "code",
   "execution_count": 26,
   "id": "def39b5a",
   "metadata": {},
   "outputs": [],
   "source": [
    "# Calculating the confusion matrix\n",
    "cm_resampled = confusion_matrix(y_test, rf_resampled_predictions)\n",
    "cm_resampled_df = pd.DataFrame(\n",
    "    cm, index=[\"Actual 0\", \"Actual 1\"], columns=[\"Predicted 0\", \"Predicted 1\"]\n",
    ")\n",
    "\n",
    "# Calculating the accuracy score\n",
    "acc_score_resampled = accuracy_score(y_test, rf_resampled_predictions)"
   ]
  },
  {
   "cell_type": "code",
   "execution_count": 27,
   "id": "4ba95826",
   "metadata": {},
   "outputs": [
    {
     "name": "stdout",
     "output_type": "stream",
     "text": [
      "Confusion Matrix\n"
     ]
    },
    {
     "data": {
      "text/html": [
       "<div>\n",
       "<style scoped>\n",
       "    .dataframe tbody tr th:only-of-type {\n",
       "        vertical-align: middle;\n",
       "    }\n",
       "\n",
       "    .dataframe tbody tr th {\n",
       "        vertical-align: top;\n",
       "    }\n",
       "\n",
       "    .dataframe thead th {\n",
       "        text-align: right;\n",
       "    }\n",
       "</style>\n",
       "<table border=\"1\" class=\"dataframe\">\n",
       "  <thead>\n",
       "    <tr style=\"text-align: right;\">\n",
       "      <th></th>\n",
       "      <th>Predicted 0</th>\n",
       "      <th>Predicted 1</th>\n",
       "    </tr>\n",
       "  </thead>\n",
       "  <tbody>\n",
       "    <tr>\n",
       "      <th>Actual 0</th>\n",
       "      <td>167</td>\n",
       "      <td>35</td>\n",
       "    </tr>\n",
       "    <tr>\n",
       "      <th>Actual 1</th>\n",
       "      <td>42</td>\n",
       "      <td>83</td>\n",
       "    </tr>\n",
       "  </tbody>\n",
       "</table>\n",
       "</div>"
      ],
      "text/plain": [
       "          Predicted 0  Predicted 1\n",
       "Actual 0          167           35\n",
       "Actual 1           42           83"
      ]
     },
     "metadata": {},
     "output_type": "display_data"
    },
    {
     "name": "stdout",
     "output_type": "stream",
     "text": [
      "Accuracy Score : 0.7767584097859327\n",
      "Classification Report\n",
      "              precision    recall  f1-score   support\n",
      "\n",
      "           0       0.83      0.81      0.82       202\n",
      "           1       0.70      0.73      0.71       125\n",
      "\n",
      "    accuracy                           0.78       327\n",
      "   macro avg       0.76      0.77      0.77       327\n",
      "weighted avg       0.78      0.78      0.78       327\n",
      "\n"
     ]
    }
   ],
   "source": [
    "# Displaying results\n",
    "print(\"Confusion Matrix\")\n",
    "display(cm_resampled_df)\n",
    "print(f\"Accuracy Score : {acc_score_resampled}\")\n",
    "print(\"Classification Report\")\n",
    "print(classification_report(y_test, rf_resampled_predictions))"
   ]
  },
  {
   "cell_type": "code",
   "execution_count": 28,
   "id": "00de908f",
   "metadata": {},
   "outputs": [
    {
     "data": {
      "text/plain": [
       "['OUTPUT/random_forest_model_resampled.pkl']"
      ]
     },
     "execution_count": 28,
     "metadata": {},
     "output_type": "execute_result"
    }
   ],
   "source": [
    "# Save the model to a file\n",
    "jl.dump(rf_model, 'OUTPUT/random_forest_model_resampled.pkl')"
   ]
  }
 ],
 "metadata": {
  "kernelspec": {
   "display_name": "Python 3 (ipykernel)",
   "language": "python",
   "name": "python3"
  },
  "language_info": {
   "codemirror_mode": {
    "name": "ipython",
    "version": 3
   },
   "file_extension": ".py",
   "mimetype": "text/x-python",
   "name": "python",
   "nbconvert_exporter": "python",
   "pygments_lexer": "ipython3",
   "version": "3.10.11"
  }
 },
 "nbformat": 4,
 "nbformat_minor": 5
}
