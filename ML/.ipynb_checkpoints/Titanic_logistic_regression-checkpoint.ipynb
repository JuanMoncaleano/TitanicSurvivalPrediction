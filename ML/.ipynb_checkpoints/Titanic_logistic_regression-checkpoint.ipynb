{
 "cells": [
  {
   "cell_type": "markdown",
   "id": "1447928d",
   "metadata": {},
   "source": [
    "### Module Importation and DataFrame Setup"
   ]
  },
  {
   "cell_type": "code",
   "execution_count": 1,
   "id": "81185b37",
   "metadata": {},
   "outputs": [],
   "source": [
    "# Import the required modules\n",
    "import pandas as pd\n",
    "from pathlib import Path\n",
    "from sklearn.model_selection import train_test_split\n",
    "from sklearn.linear_model import LogisticRegression\n",
    "from sklearn.metrics import classification_report, confusion_matrix\n",
    "from sklearn.preprocessing import OneHotEncoder, LabelEncoder"
   ]
  },
  {
   "cell_type": "code",
   "execution_count": 2,
   "id": "5ba623fc",
   "metadata": {},
   "outputs": [],
   "source": [
    "# Read the cleaned CSV file from the Dataset folder into a Pandas DataFrame\n",
    "dfSurvivals = pd.read_csv(\n",
    "    Path(\"../CSV_OUTPUT/Base_Cleaned_DS_CSV.csv\")\n",
    ")"
   ]
  },
  {
   "cell_type": "code",
   "execution_count": 3,
   "id": "0e8affa4",
   "metadata": {
    "scrolled": true
   },
   "outputs": [
    {
     "data": {
      "text/html": [
       "<div>\n",
       "<style scoped>\n",
       "    .dataframe tbody tr th:only-of-type {\n",
       "        vertical-align: middle;\n",
       "    }\n",
       "\n",
       "    .dataframe tbody tr th {\n",
       "        vertical-align: top;\n",
       "    }\n",
       "\n",
       "    .dataframe thead th {\n",
       "        text-align: right;\n",
       "    }\n",
       "</style>\n",
       "<table border=\"1\" class=\"dataframe\">\n",
       "  <thead>\n",
       "    <tr style=\"text-align: right;\">\n",
       "      <th></th>\n",
       "      <th>Passenger Id</th>\n",
       "      <th>Title</th>\n",
       "      <th>First Name</th>\n",
       "      <th>Last Name</th>\n",
       "      <th>Sex</th>\n",
       "      <th>Age</th>\n",
       "      <th>Sibling/Spouse Aboard</th>\n",
       "      <th>Parent/Children Aboard</th>\n",
       "      <th>Passenger Class</th>\n",
       "      <th>Fare</th>\n",
       "      <th>Embarkation Port</th>\n",
       "      <th>Survival Boat</th>\n",
       "      <th>Body Number</th>\n",
       "      <th>Survived</th>\n",
       "      <th>age_group</th>\n",
       "      <th>family_size</th>\n",
       "    </tr>\n",
       "  </thead>\n",
       "  <tbody>\n",
       "    <tr>\n",
       "      <th>0</th>\n",
       "      <td>1</td>\n",
       "      <td>Miss</td>\n",
       "      <td>Elisabeth Walton</td>\n",
       "      <td>Allen</td>\n",
       "      <td>female</td>\n",
       "      <td>29.0000</td>\n",
       "      <td>0</td>\n",
       "      <td>0</td>\n",
       "      <td>1</td>\n",
       "      <td>211.3375</td>\n",
       "      <td>S</td>\n",
       "      <td>2</td>\n",
       "      <td>S</td>\n",
       "      <td>1</td>\n",
       "      <td>Adults</td>\n",
       "      <td>0</td>\n",
       "    </tr>\n",
       "    <tr>\n",
       "      <th>1</th>\n",
       "      <td>2</td>\n",
       "      <td>Master</td>\n",
       "      <td>Hudson Trevor</td>\n",
       "      <td>Allison</td>\n",
       "      <td>male</td>\n",
       "      <td>0.9167</td>\n",
       "      <td>1</td>\n",
       "      <td>2</td>\n",
       "      <td>1</td>\n",
       "      <td>151.5500</td>\n",
       "      <td>S</td>\n",
       "      <td>11</td>\n",
       "      <td>S</td>\n",
       "      <td>1</td>\n",
       "      <td>Children</td>\n",
       "      <td>3</td>\n",
       "    </tr>\n",
       "    <tr>\n",
       "      <th>2</th>\n",
       "      <td>3</td>\n",
       "      <td>Miss</td>\n",
       "      <td>Helen Loraine</td>\n",
       "      <td>Allison</td>\n",
       "      <td>female</td>\n",
       "      <td>2.0000</td>\n",
       "      <td>1</td>\n",
       "      <td>2</td>\n",
       "      <td>1</td>\n",
       "      <td>151.5500</td>\n",
       "      <td>S</td>\n",
       "      <td>DNS</td>\n",
       "      <td>BNR</td>\n",
       "      <td>0</td>\n",
       "      <td>Children</td>\n",
       "      <td>3</td>\n",
       "    </tr>\n",
       "    <tr>\n",
       "      <th>3</th>\n",
       "      <td>4</td>\n",
       "      <td>Mr</td>\n",
       "      <td>Hudson Joshua Creighton</td>\n",
       "      <td>Allison</td>\n",
       "      <td>male</td>\n",
       "      <td>30.0000</td>\n",
       "      <td>1</td>\n",
       "      <td>2</td>\n",
       "      <td>1</td>\n",
       "      <td>151.5500</td>\n",
       "      <td>S</td>\n",
       "      <td>DNS</td>\n",
       "      <td>135</td>\n",
       "      <td>0</td>\n",
       "      <td>Adults</td>\n",
       "      <td>3</td>\n",
       "    </tr>\n",
       "    <tr>\n",
       "      <th>4</th>\n",
       "      <td>5</td>\n",
       "      <td>Mrs</td>\n",
       "      <td>Hudson J C (Bessie Waldo Daniels)</td>\n",
       "      <td>Allison</td>\n",
       "      <td>female</td>\n",
       "      <td>25.0000</td>\n",
       "      <td>1</td>\n",
       "      <td>2</td>\n",
       "      <td>1</td>\n",
       "      <td>151.5500</td>\n",
       "      <td>S</td>\n",
       "      <td>DNS</td>\n",
       "      <td>BNR</td>\n",
       "      <td>0</td>\n",
       "      <td>Adults</td>\n",
       "      <td>3</td>\n",
       "    </tr>\n",
       "  </tbody>\n",
       "</table>\n",
       "</div>"
      ],
      "text/plain": [
       "   Passenger Id    Title                          First Name Last Name  \\\n",
       "0             1     Miss                    Elisabeth Walton     Allen   \n",
       "1             2   Master                       Hudson Trevor   Allison   \n",
       "2             3     Miss                       Helen Loraine   Allison   \n",
       "3             4       Mr             Hudson Joshua Creighton   Allison   \n",
       "4             5      Mrs   Hudson J C (Bessie Waldo Daniels)   Allison   \n",
       "\n",
       "      Sex      Age  Sibling/Spouse Aboard  Parent/Children Aboard  \\\n",
       "0  female  29.0000                      0                       0   \n",
       "1    male   0.9167                      1                       2   \n",
       "2  female   2.0000                      1                       2   \n",
       "3    male  30.0000                      1                       2   \n",
       "4  female  25.0000                      1                       2   \n",
       "\n",
       "   Passenger Class      Fare Embarkation Port Survival Boat Body Number  \\\n",
       "0                1  211.3375                S             2           S   \n",
       "1                1  151.5500                S            11           S   \n",
       "2                1  151.5500                S           DNS         BNR   \n",
       "3                1  151.5500                S           DNS         135   \n",
       "4                1  151.5500                S           DNS         BNR   \n",
       "\n",
       "   Survived age_group  family_size  \n",
       "0         1    Adults            0  \n",
       "1         1  Children            3  \n",
       "2         0  Children            3  \n",
       "3         0    Adults            3  \n",
       "4         0    Adults            3  "
      ]
     },
     "execution_count": 3,
     "metadata": {},
     "output_type": "execute_result"
    }
   ],
   "source": [
    "# Review the DataFrame\n",
    "dfSurvivals.head()"
   ]
  },
  {
   "cell_type": "code",
   "execution_count": 4,
   "id": "9d1d99ba",
   "metadata": {},
   "outputs": [
    {
     "name": "stdout",
     "output_type": "stream",
     "text": [
      "<class 'pandas.core.frame.DataFrame'>\n",
      "RangeIndex: 1308 entries, 0 to 1307\n",
      "Data columns (total 16 columns):\n",
      " #   Column                  Non-Null Count  Dtype  \n",
      "---  ------                  --------------  -----  \n",
      " 0   Passenger Id            1308 non-null   int64  \n",
      " 1   Title                   1308 non-null   object \n",
      " 2   First Name              1308 non-null   object \n",
      " 3   Last Name               1308 non-null   object \n",
      " 4   Sex                     1308 non-null   object \n",
      " 5   Age                     1308 non-null   float64\n",
      " 6   Sibling/Spouse Aboard   1308 non-null   int64  \n",
      " 7   Parent/Children Aboard  1308 non-null   int64  \n",
      " 8   Passenger Class         1308 non-null   int64  \n",
      " 9   Fare                    1308 non-null   float64\n",
      " 10  Embarkation Port        1308 non-null   object \n",
      " 11  Survival Boat           1308 non-null   object \n",
      " 12  Body Number             1308 non-null   object \n",
      " 13  Survived                1308 non-null   int64  \n",
      " 14  age_group               1308 non-null   object \n",
      " 15  family_size             1308 non-null   int64  \n",
      "dtypes: float64(2), int64(6), object(8)\n",
      "memory usage: 163.6+ KB\n"
     ]
    }
   ],
   "source": [
    "# Print DataFrame information to ensure no null values and check datatypes\n",
    "dfSurvivals.info()"
   ]
  },
  {
   "cell_type": "markdown",
   "id": "ad19216f",
   "metadata": {},
   "source": [
    "### Preprocess Data"
   ]
  },
  {
   "cell_type": "code",
   "execution_count": 5,
   "id": "7acc2366",
   "metadata": {},
   "outputs": [],
   "source": [
    "# Change Sex Column\n",
    "result = OneHotEncoder().fit_transform(dfSurvivals[\"Sex\"].values.reshape(-1, 1)).toarray()\n",
    "dfSurvivals[[\"Female\", \"Male\"]] = pd.DataFrame(result, index = dfSurvivals.index)\n",
    "dfSurvivals.drop([\"Sex\"], axis=1, inplace=True)"
   ]
  },
  {
   "cell_type": "code",
   "execution_count": 6,
   "id": "84661e3d",
   "metadata": {},
   "outputs": [],
   "source": [
    "# Apply categorical encoding to the Embarkation Port, Surival Boat, and age_group columns\n",
    "labelencoder_X = LabelEncoder()\n",
    "\n",
    "dfSurvivals[\"Embarkation Port\"] = labelencoder_X.fit_transform(dfSurvivals[\"Embarkation Port\"])\n",
    "dfSurvivals[\"Survival Boat\"] = labelencoder_X.fit_transform(dfSurvivals[\"Survival Boat\"])\n",
    "dfSurvivals[\"age_group\"] = labelencoder_X.fit_transform(dfSurvivals[\"age_group\"])"
   ]
  },
  {
   "cell_type": "code",
   "execution_count": 7,
   "id": "82ac536f",
   "metadata": {},
   "outputs": [],
   "source": [
    "# Drop string columns that will not be used in model\n",
    "dfSurvivals.drop([\"Title\",\"First Name\",\"Last Name\", \"Body Number\"], axis=1, inplace=True)"
   ]
  },
  {
   "cell_type": "code",
   "execution_count": 8,
   "id": "5634646e",
   "metadata": {},
   "outputs": [
    {
     "data": {
      "text/plain": [
       "Passenger Id                int64\n",
       "Age                       float64\n",
       "Sibling/Spouse Aboard       int64\n",
       "Parent/Children Aboard      int64\n",
       "Passenger Class             int64\n",
       "Fare                      float64\n",
       "Embarkation Port            int32\n",
       "Survival Boat               int32\n",
       "Survived                    int64\n",
       "age_group                   int32\n",
       "family_size                 int64\n",
       "Female                    float64\n",
       "Male                      float64\n",
       "dtype: object"
      ]
     },
     "execution_count": 8,
     "metadata": {},
     "output_type": "execute_result"
    }
   ],
   "source": [
    "# Ensure only numerical values remain\n",
    "dfSurvivals.dtypes"
   ]
  },
  {
   "cell_type": "markdown",
   "id": "ce3f6bb9",
   "metadata": {},
   "source": [
    "### Split the data into X and y and then into testing and training sets"
   ]
  },
  {
   "cell_type": "code",
   "execution_count": 9,
   "id": "2eb2e5b1",
   "metadata": {},
   "outputs": [],
   "source": [
    "# Split the data into X (features) and y (target)\n",
    "\n",
    "# Set the y variable, which is the target\n",
    "y = dfSurvivals['Survived']\n",
    "\n",
    "# Set the X variable, which includes all features escept the target\n",
    "X = dfSurvivals.drop(columns=['Survived'])"
   ]
  },
  {
   "cell_type": "code",
   "execution_count": 10,
   "id": "d2d76231",
   "metadata": {},
   "outputs": [],
   "source": [
    "# Split into testing and training sets using train_test_split\n",
    "X_train, X_test, y_train, y_test = train_test_split(X, y)"
   ]
  },
  {
   "cell_type": "markdown",
   "id": "950c4d3d",
   "metadata": {},
   "source": [
    "### Fit a logistic regression classifier"
   ]
  },
  {
   "cell_type": "code",
   "execution_count": 11,
   "id": "2abb6bab",
   "metadata": {},
   "outputs": [],
   "source": [
    "# Declare a logistic regression model\n",
    "logistic_regression_model = LogisticRegression(random_state=1)"
   ]
  },
  {
   "cell_type": "code",
   "execution_count": 12,
   "id": "a60aff35",
   "metadata": {},
   "outputs": [
    {
     "name": "stderr",
     "output_type": "stream",
     "text": [
      "D:\\Anaconda3\\envs\\dev\\lib\\site-packages\\sklearn\\linear_model\\_logistic.py:458: ConvergenceWarning: lbfgs failed to converge (status=1):\n",
      "STOP: TOTAL NO. of ITERATIONS REACHED LIMIT.\n",
      "\n",
      "Increase the number of iterations (max_iter) or scale the data as shown in:\n",
      "    https://scikit-learn.org/stable/modules/preprocessing.html\n",
      "Please also refer to the documentation for alternative solver options:\n",
      "    https://scikit-learn.org/stable/modules/linear_model.html#logistic-regression\n",
      "  n_iter_i = _check_optimize_result(\n"
     ]
    }
   ],
   "source": [
    "# Fit and save the logistic regression model using the training data\n",
    "lr_model = logistic_regression_model.fit(X_train, y_train)"
   ]
  },
  {
   "cell_type": "markdown",
   "id": "4df0e2cc",
   "metadata": {},
   "source": [
    "### Create the predicted values for the testing and the training data"
   ]
  },
  {
   "cell_type": "code",
   "execution_count": 13,
   "id": "75b8ab7b",
   "metadata": {},
   "outputs": [],
   "source": [
    "#Generate training predictions\n",
    "training_predictions = lr_model.predict(X_train)"
   ]
  },
  {
   "cell_type": "code",
   "execution_count": 14,
   "id": "27da03ad",
   "metadata": {},
   "outputs": [],
   "source": [
    "#Generate testing predictions\n",
    "testing_predictions = logistic_regression_model.predict(X_test)"
   ]
  },
  {
   "cell_type": "markdown",
   "id": "7b66a3f2",
   "metadata": {},
   "source": [
    "### Print a confusion matrix for the testing data"
   ]
  },
  {
   "cell_type": "code",
   "execution_count": 15,
   "id": "0b08509c",
   "metadata": {},
   "outputs": [],
   "source": [
    "# Create and save the confusion matrix for the testing data\n",
    "test_matrix = confusion_matrix(y_test, testing_predictions)"
   ]
  },
  {
   "cell_type": "code",
   "execution_count": 16,
   "id": "a345960e",
   "metadata": {},
   "outputs": [
    {
     "name": "stdout",
     "output_type": "stream",
     "text": [
      "[[188   7]\n",
      " [ 21 111]]\n"
     ]
    }
   ],
   "source": [
    "# Print the confusion matrix for the testing data\n",
    "print(test_matrix)"
   ]
  },
  {
   "cell_type": "markdown",
   "id": "2b838ee6",
   "metadata": {},
   "source": [
    "### Print the testing classification report"
   ]
  },
  {
   "cell_type": "code",
   "execution_count": 17,
   "id": "baa62c81",
   "metadata": {},
   "outputs": [],
   "source": [
    "# Create and save the testing classification report\n",
    "testing_report = classification_report(y_test, testing_predictions)"
   ]
  },
  {
   "cell_type": "code",
   "execution_count": 18,
   "id": "dbbf0478",
   "metadata": {},
   "outputs": [
    {
     "name": "stdout",
     "output_type": "stream",
     "text": [
      "              precision    recall  f1-score   support\n",
      "\n",
      "           0       0.90      0.96      0.93       195\n",
      "           1       0.94      0.84      0.89       132\n",
      "\n",
      "    accuracy                           0.91       327\n",
      "   macro avg       0.92      0.90      0.91       327\n",
      "weighted avg       0.92      0.91      0.91       327\n",
      "\n"
     ]
    }
   ],
   "source": [
    "# Print the testing classification report\n",
    "print(testing_report)"
   ]
  },
  {
   "cell_type": "markdown",
   "id": "a1a99ecf",
   "metadata": {},
   "source": [
    "**Question**: How does the performance of the training and test dataset compare?\n",
    "\n",
    "**Answer**: Looking at the two classification reports for the training and test data, it looks as if model performance actually improved on the testing data. All metrics (precision, recall, f1-score, and accuracy) were 1-6% better on the testing data."
   ]
  }
 ],
 "metadata": {
  "kernelspec": {
   "display_name": "Python 3 (ipykernel)",
   "language": "python",
   "name": "python3"
  },
  "language_info": {
   "codemirror_mode": {
    "name": "ipython",
    "version": 3
   },
   "file_extension": ".py",
   "mimetype": "text/x-python",
   "name": "python",
   "nbconvert_exporter": "python",
   "pygments_lexer": "ipython3",
   "version": "3.10.13"
  }
 },
 "nbformat": 4,
 "nbformat_minor": 5
}
